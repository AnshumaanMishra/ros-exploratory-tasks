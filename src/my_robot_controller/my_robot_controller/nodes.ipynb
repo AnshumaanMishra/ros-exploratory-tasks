{
 "cells": [
  {
   "cell_type": "markdown",
   "id": "a24dd2bc",
   "metadata": {},
   "source": [
    "# Imports"
   ]
  },
  {
   "cell_type": "code",
   "execution_count": 14,
   "id": "df74d80d",
   "metadata": {},
   "outputs": [],
   "source": [
    "# Import the main dependeny, rclpy\n",
    "import rclpy"
   ]
  },
  {
   "cell_type": "code",
   "execution_count": 15,
   "id": "57de2fa2",
   "metadata": {},
   "outputs": [],
   "source": [
    "# Import the parent class for nodes\n",
    "from rclpy.node import Node"
   ]
  },
  {
   "cell_type": "markdown",
   "id": "91d81331",
   "metadata": {},
   "source": [
    "## Helper Functions"
   ]
  },
  {
   "cell_type": "code",
   "execution_count": 16,
   "id": "e2e30dc6",
   "metadata": {},
   "outputs": [],
   "source": [
    "# Helper Functions\n",
    "def generator():\n",
    "    i = 0\n",
    "    while 1:\n",
    "        yield i\n",
    "        i += 1"
   ]
  },
  {
   "cell_type": "markdown",
   "id": "e5cbef74",
   "metadata": {},
   "source": [
    "## Simple Hello Node"
   ]
  },
  {
   "cell_type": "code",
   "execution_count": 17,
   "id": "ca84b7c1",
   "metadata": {},
   "outputs": [],
   "source": [
    "# Node must inherit from class Node\n",
    "class MyNode(Node):\n",
    "    # Constructor:\n",
    "    def __init__(self):\n",
    "        # Initialise superclass with Node Name, \n",
    "        super().__init__(\"first_node\")\n",
    "\n",
    "        # Log some text onto the output console\n",
    "        self.get_logger().info(\"Hello From ROS2\")\n",
    "\n"
   ]
  },
  {
   "cell_type": "markdown",
   "id": "2b828165",
   "metadata": {},
   "source": [
    "## Node that prints every second"
   ]
  },
  {
   "cell_type": "code",
   "execution_count": 24,
   "id": "7efd74c8",
   "metadata": {},
   "outputs": [],
   "source": [
    "class MyNode(Node):\n",
    "    # Constructor:\n",
    "    def __init__(self):\n",
    "        # Initialise superclass with Node Name, \n",
    "        super().__init__(\"first_node\")\n",
    "        \n",
    "        # Timer in ROS2\n",
    "        self.create_timer(timer_period_sec=1.0, callback=self.timer_callback)\n",
    "    \n",
    "    # To display content, say, every second:\n",
    "    def timer_callback(self):\n",
    "        self.get_logger().info(f\"Hello, {next(generator())}\")"
   ]
  },
  {
   "cell_type": "markdown",
   "id": "6aab9123",
   "metadata": {},
   "source": [
    "## Main Function"
   ]
  },
  {
   "cell_type": "code",
   "execution_count": 25,
   "id": "3ae96a2f",
   "metadata": {},
   "outputs": [],
   "source": [
    "def main(args = None):\n",
    "    # Initialise rclpy communications\n",
    "    rclpy.init(args=args)\n",
    "\n",
    "    node = MyNode()\n",
    "\n",
    "    # At this point, the node extis right after executing the logging\n",
    "    rclpy.spin(node) # To make the node continue forever to make all callbacks be run\n",
    "    \n",
    "    # Shut Down rclpy communications\n",
    "    rclpy.shutdown()\n"
   ]
  },
  {
   "cell_type": "code",
   "execution_count": 26,
   "id": "e988885e",
   "metadata": {},
   "outputs": [
    {
     "ename": "RuntimeError",
     "evalue": "Context.init() must only be called once",
     "output_type": "error",
     "traceback": [
      "\u001b[0;31m---------------------------------------------------------------------------\u001b[0m",
      "\u001b[0;31mRuntimeError\u001b[0m                              Traceback (most recent call last)",
      "Cell \u001b[0;32mIn[26], line 1\u001b[0m\n\u001b[0;32m----> 1\u001b[0m \u001b[43mmain\u001b[49m\u001b[43m(\u001b[49m\u001b[43m)\u001b[49m\n",
      "Cell \u001b[0;32mIn[25], line 3\u001b[0m, in \u001b[0;36mmain\u001b[0;34m(args)\u001b[0m\n\u001b[1;32m      1\u001b[0m \u001b[38;5;28;01mdef\u001b[39;00m \u001b[38;5;21mmain\u001b[39m(args \u001b[38;5;241m=\u001b[39m \u001b[38;5;28;01mNone\u001b[39;00m):\n\u001b[1;32m      2\u001b[0m     \u001b[38;5;66;03m# Initialise rclpy communications\u001b[39;00m\n\u001b[0;32m----> 3\u001b[0m     \u001b[43mrclpy\u001b[49m\u001b[38;5;241;43m.\u001b[39;49m\u001b[43minit\u001b[49m\u001b[43m(\u001b[49m\u001b[43margs\u001b[49m\u001b[38;5;241;43m=\u001b[39;49m\u001b[43margs\u001b[49m\u001b[43m)\u001b[49m\n\u001b[1;32m      5\u001b[0m     node \u001b[38;5;241m=\u001b[39m MyNode()\n\u001b[1;32m      7\u001b[0m     \u001b[38;5;66;03m# At this point, the node extis right after executing the logging\u001b[39;00m\n",
      "File \u001b[0;32m/opt/ros/humble/local/lib/python3.10/dist-packages/rclpy/__init__.py:88\u001b[0m, in \u001b[0;36minit\u001b[0;34m(args, context, domain_id, signal_handler_options)\u001b[0m\n\u001b[1;32m     86\u001b[0m     \u001b[38;5;28;01melse\u001b[39;00m:\n\u001b[1;32m     87\u001b[0m         signal_handler_options \u001b[38;5;241m=\u001b[39m SignalHandlerOptions\u001b[38;5;241m.\u001b[39mNO\n\u001b[0;32m---> 88\u001b[0m \u001b[43mcontext\u001b[49m\u001b[38;5;241;43m.\u001b[39;49m\u001b[43minit\u001b[49m\u001b[43m(\u001b[49m\u001b[43margs\u001b[49m\u001b[43m,\u001b[49m\u001b[43m \u001b[49m\u001b[43mdomain_id\u001b[49m\u001b[38;5;241;43m=\u001b[39;49m\u001b[43mdomain_id\u001b[49m\u001b[43m)\u001b[49m\n\u001b[1;32m     89\u001b[0m \u001b[38;5;66;03m# Install signal handlers after initializing the context because the rclpy signal\u001b[39;00m\n\u001b[1;32m     90\u001b[0m \u001b[38;5;66;03m# handler only does something if there is at least one initialized context.\u001b[39;00m\n\u001b[1;32m     91\u001b[0m \u001b[38;5;66;03m# It is desirable for sigint or sigterm to be able to terminate the process if rcl_init\u001b[39;00m\n\u001b[1;32m     92\u001b[0m \u001b[38;5;66;03m# takes a long time, and the default signal handlers work well for that purpose.\u001b[39;00m\n\u001b[1;32m     93\u001b[0m install_signal_handlers(signal_handler_options)\n",
      "File \u001b[0;32m/opt/ros/humble/local/lib/python3.10/dist-packages/rclpy/context.py:70\u001b[0m, in \u001b[0;36mContext.init\u001b[0;34m(self, args, initialize_logging, domain_id)\u001b[0m\n\u001b[1;32m     65\u001b[0m     \u001b[38;5;28;01mraise\u001b[39;00m \u001b[38;5;167;01mRuntimeError\u001b[39;00m(\n\u001b[1;32m     66\u001b[0m         \u001b[38;5;124m'\u001b[39m\u001b[38;5;124mDomain id (\u001b[39m\u001b[38;5;132;01m{}\u001b[39;00m\u001b[38;5;124m) should not be lower than zero.\u001b[39m\u001b[38;5;124m'\u001b[39m\n\u001b[1;32m     67\u001b[0m         \u001b[38;5;241m.\u001b[39mformat(domain_id))\n\u001b[1;32m     69\u001b[0m \u001b[38;5;28;01mif\u001b[39;00m \u001b[38;5;28mself\u001b[39m\u001b[38;5;241m.\u001b[39m__context \u001b[38;5;129;01mis\u001b[39;00m \u001b[38;5;129;01mnot\u001b[39;00m \u001b[38;5;28;01mNone\u001b[39;00m:\n\u001b[0;32m---> 70\u001b[0m     \u001b[38;5;28;01mraise\u001b[39;00m \u001b[38;5;167;01mRuntimeError\u001b[39;00m(\u001b[38;5;124m'\u001b[39m\u001b[38;5;124mContext.init() must only be called once\u001b[39m\u001b[38;5;124m'\u001b[39m)\n\u001b[1;32m     72\u001b[0m \u001b[38;5;28mself\u001b[39m\u001b[38;5;241m.\u001b[39m__context \u001b[38;5;241m=\u001b[39m _rclpy\u001b[38;5;241m.\u001b[39mContext(\n\u001b[1;32m     73\u001b[0m     args \u001b[38;5;28;01mif\u001b[39;00m args \u001b[38;5;129;01mis\u001b[39;00m \u001b[38;5;129;01mnot\u001b[39;00m \u001b[38;5;28;01mNone\u001b[39;00m \u001b[38;5;28;01melse\u001b[39;00m sys\u001b[38;5;241m.\u001b[39margv,\n\u001b[1;32m     74\u001b[0m     domain_id \u001b[38;5;28;01mif\u001b[39;00m domain_id \u001b[38;5;129;01mis\u001b[39;00m \u001b[38;5;129;01mnot\u001b[39;00m \u001b[38;5;28;01mNone\u001b[39;00m \u001b[38;5;28;01melse\u001b[39;00m _rclpy\u001b[38;5;241m.\u001b[39mRCL_DEFAULT_DOMAIN_ID)\n\u001b[1;32m     75\u001b[0m \u001b[38;5;28;01mif\u001b[39;00m initialize_logging \u001b[38;5;129;01mand\u001b[39;00m \u001b[38;5;129;01mnot\u001b[39;00m \u001b[38;5;28mself\u001b[39m\u001b[38;5;241m.\u001b[39m_logging_initialized:\n",
      "\u001b[0;31mRuntimeError\u001b[0m: Context.init() must only be called once"
     ]
    }
   ],
   "source": [
    "main()"
   ]
  }
 ],
 "metadata": {
  "kernelspec": {
   "display_name": "Python 3",
   "language": "python",
   "name": "python3"
  },
  "language_info": {
   "codemirror_mode": {
    "name": "ipython",
    "version": 3
   },
   "file_extension": ".py",
   "mimetype": "text/x-python",
   "name": "python",
   "nbconvert_exporter": "python",
   "pygments_lexer": "ipython3",
   "version": "3.10.12"
  }
 },
 "nbformat": 4,
 "nbformat_minor": 5
}
